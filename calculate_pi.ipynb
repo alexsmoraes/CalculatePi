{
 "cells": [
  {
   "cell_type": "code",
   "execution_count": 194,
   "metadata": {},
   "outputs": [
    {
     "data": {
      "text/html": [
       "<link href='http://fonts.googleapis.com/css?family=Fenix' rel='stylesheet' type='text/css'>\n",
       "<link href='http://fonts.googleapis.com/css?family=Alegreya+Sans:100,300,400,500,700,800,900,100italic,300italic,400italic,500italic,700italic,800italic,900italic' rel='stylesheet' type='text/css'>\n",
       "<link href='http://fonts.googleapis.com/css?family=Source+Code+Pro:300,400' rel='stylesheet' type='text/css'>\n",
       "<style>\n",
       "    @font-face {\n",
       "        font-family: \"Computer Modern\";\n",
       "        src: url('http://mirrors.ctan.org/fonts/cm-unicode/fonts/otf/cmunss.otf');\n",
       "    }\n",
       "    div.cell{\n",
       "        width:1000px;\n",
       "        margin-left:5% !important;\n",
       "        margin-right:auto;\n",
       "    }\n",
       "    h1 {\n",
       "        font-family: 'Alegreya Sans', sans-serif;\n",
       "    }\n",
       "    h2 {\n",
       "        font-family: 'Fenix', serif;\n",
       "    }\n",
       "    h3{\n",
       "\t\tfont-family: 'Fenix', serif;\n",
       "        margin-top:12px;\n",
       "        margin-bottom: 3px;\n",
       "       }\n",
       "\th4{\n",
       "\t\tfont-family: 'Fenix', serif;\n",
       "       }\n",
       "    h5 {\n",
       "        font-family: 'Alegreya Sans', sans-serif;\n",
       "    }\t   \n",
       "    div.text_cell_render{\n",
       "        font-family: 'Alegreya Sans',Computer Modern, \"Helvetica Neue\", Arial, Helvetica, Geneva, sans-serif;\n",
       "        line-height: 135%;\n",
       "        font-size: 120%;\n",
       "        width:900px;\n",
       "        margin-left:auto;\n",
       "        margin-right:auto;\n",
       "    }\n",
       "    .CodeMirror{\n",
       "            font-family: \"Source Code Pro\";\n",
       "\t\t\tfont-size: 100%;\n",
       "    }\n",
       "/*    .prompt{\n",
       "        display: None;\n",
       "    }*/\n",
       "    .text_cell_render h1 {\n",
       "        font-weight: 400;\n",
       "        font-size: 30pt;\n",
       "\t\tline-height: 100%;\n",
       "        color:#1B5E20;\n",
       "        margin-bottom: 0.5em;\n",
       "        margin-top: 0.5em;\n",
       "        display: block;\n",
       "    }\t\n",
       "    .text_cell_render h5 {\n",
       "        font-weight: 300;\n",
       "        font-size: 16pt;\n",
       "        color: #1B5E20;\n",
       "        font-style: italic;\n",
       "        margin-bottom: .5em;\n",
       "        margin-top: 0.5em;\n",
       "        display: block;\n",
       "    }\n",
       "    \n",
       "    .warning{\n",
       "        color: rgb( 240, 20, 20 )\n",
       "        }  \n",
       "</style>\n",
       "<script>\n",
       "    MathJax.Hub.Config({\n",
       "                        TeX: {\n",
       "                           extensions: [\"AMSmath.js\"]\n",
       "                           },\n",
       "                tex2jax: {\n",
       "                    inlineMath: [ ['$','$'], [\"\\\\(\",\"\\\\)\"] ],\n",
       "                    displayMath: [ ['$$','$$'], [\"\\\\[\",\"\\\\]\"] ]\n",
       "                },\n",
       "                displayAlign: 'center', // Change this to 'center' to center equations.\n",
       "                \"HTML-CSS\": {\n",
       "                    styles: {'.MathJax_Display': {\"margin\": 4}}\n",
       "                }\n",
       "        });\n",
       "</script>\n"
      ],
      "text/plain": [
       "<IPython.core.display.HTML object>"
      ]
     },
     "execution_count": 194,
     "metadata": {},
     "output_type": "execute_result"
    }
   ],
   "source": [
    "from IPython.core.display import HTML\n",
    "def css_styling():\n",
    "    styles = open(\"custom.css\", \"r\").read()\n",
    "    return HTML(styles)\n",
    "css_styling()"
   ]
  },
  {
   "cell_type": "markdown",
   "metadata": {},
   "source": [
    "# Simulation for estimating the value of $\\pi$"
   ]
  },
  {
   "cell_type": "markdown",
   "metadata": {},
   "source": [
    "In this simulation we are going to estimate the value of $\\pi$.\n",
    "\n",
    "For this, consider a circle of radius $R$ inside a square of length $L = 2R$, as in the image below.\n",
    "\n",
    "![](circle_inside_square.jpg)\n",
    "\n",
    "Now imagine we start filling this square with random points. Some of these points will fall inside the circle (let's call this number $n_{circle}$), some of them not. At some point, as the number of points increases, the area of the circle will be proportional to the number of points inside it, i.e., \n",
    "$$n_{circle} \\propto A_{circle} = \\pi R^2 \\, ,$$\n",
    "so\n",
    "$$n_{circle} = aA_{circle} = a\\pi R^2 \\, ,$$\n",
    "where $a$ is a proportionality constant.\n",
    "\n",
    "The same will be true for the square, in which its area will be proportional to the total number of points, $n_{total}$, that is,\n",
    "$$n_{total} \\propto A_{square} = L^2 = 4R^2 \\, ,$$\n",
    "so\n",
    "$$n_{total} = bA_{square} = bL^2 = 4bR^2 \\, ,$$\n",
    "where $b$ is a proportionality constant.\n",
    "\n",
    "Assuming the points are uniformly distributed (which will be true as $n_{total} \\to \\infty$), then the density of points will be the same everywhere, and the proportionality constants $a$ and $b$ will be the same. Therefore, we have\n",
    "$$\\frac{n_{circle}}{n_{total}} = \\frac{a\\pi R^2}{4aR^2} = \\frac{\\pi}{4}$$\n",
    "\n",
    "$$\\therefore \\pi = \\frac{4n_{circle}}{n_{total}} \\, ,$$\n",
    "which is what we are going to calculate here."
   ]
  },
  {
   "cell_type": "code",
   "execution_count": 195,
   "metadata": {},
   "outputs": [],
   "source": [
    "# Importing libraries\n",
    "\n",
    "from matplotlib import pyplot as plt\n",
    "import numpy as np\n",
    "import random\n",
    "import scipy.stats as stats\n",
    "import math\n",
    "import multiprocessing as mp\n",
    "from IPython.display import display, Math"
   ]
  },
  {
   "cell_type": "markdown",
   "metadata": {},
   "source": [
    "# Checking if $a$ is really equal to $b$ as $n_{total} \\to \\infty$"
   ]
  },
  {
   "cell_type": "markdown",
   "metadata": {},
   "source": [
    "We will first check that the difference between the proportionality constants $a$ and $b$ approach zero as the number of points increase."
   ]
  },
  {
   "cell_type": "code",
   "execution_count": 196,
   "metadata": {},
   "outputs": [],
   "source": [
    "def check_prop_consts(n):\n",
    "    i = 0\n",
    "    radius = 1\n",
    "    inside = 0\n",
    "    outside = 0\n",
    "    while i < n:\n",
    "        x = random.uniform(-radius,radius)\n",
    "        y = random.uniform(-radius,radius)\n",
    "        if math.sqrt(x*x + y*y) <= radius:\n",
    "            inside += 1\n",
    "        else:\n",
    "            outside += 1\n",
    "        i += 1\n",
    "    a = round(math.pi*radius*radius/inside,6)\n",
    "    b = round(4*radius*radius/(inside + outside),6)\n",
    "    return a, b"
   ]
  },
  {
   "cell_type": "code",
   "execution_count": 205,
   "metadata": {},
   "outputs": [
    {
     "name": "stdout",
     "output_type": "stream",
     "text": [
      "n = 100;\ta = 0.043036\t; b = 0.04;\t |a-b| = 0.003036\n",
      "n = 1000;\ta = 0.003942\t; b = 0.004;\t |a-b| = 5.8e-05\n",
      "n = 10000;\ta = 0.0004\t; b = 0.0004;\t |a-b| = 0.0\n",
      "n = 50000;\ta = 8e-05\t; b = 8e-05;\t |a-b| = 0.0\n"
     ]
    }
   ],
   "source": [
    "for n in [100, 1000, 10000, 50000]:\n",
    "    a, b = check_prop_consts(n)\n",
    "    delta = round(abs(a-b),6)\n",
    "    print('n = {};\\ta = {}\\t; b = {};\\t |a-b| = {}'.format(n, a, b, delta))"
   ]
  },
  {
   "cell_type": "markdown",
   "metadata": {},
   "source": [
    "# Calculating the value of $\\pi$"
   ]
  },
  {
   "cell_type": "code",
   "execution_count": 206,
   "metadata": {},
   "outputs": [],
   "source": [
    "def calculate_pi(n):\n",
    "    i = 0\n",
    "    radius = 1\n",
    "    inside = 0\n",
    "    while i < n:\n",
    "        x = random.uniform(-radius,radius)\n",
    "        y = random.uniform(-radius,radius)\n",
    "        if math.sqrt(x*x + y*y) <= radius:\n",
    "            inside += 1\n",
    "        i += 1\n",
    "    return 4*inside/n"
   ]
  },
  {
   "cell_type": "markdown",
   "metadata": {},
   "source": [
    "We will run in parallel here to increase the number of points in the calculation and, therefore, increase the accuracy.\n",
    "\n",
    "You can test different numbers of $n$ if you want."
   ]
  },
  {
   "cell_type": "code",
   "execution_count": 207,
   "metadata": {},
   "outputs": [
    {
     "data": {
      "text/plain": [
       "3.1342"
      ]
     },
     "execution_count": 207,
     "metadata": {},
     "output_type": "execute_result"
    }
   ],
   "source": [
    "n = 20000\n",
    "\n",
    "threads = mp.cpu_count() \n",
    "pool = mp.Pool(threads)\n",
    "pi = pool.map(calculate_pi, [n for x in range(threads)])\n",
    "pi = round(np.mean(pi),4)\n",
    "pi"
   ]
  },
  {
   "cell_type": "markdown",
   "metadata": {},
   "source": [
    "# Calculating average $\\pi$"
   ]
  },
  {
   "cell_type": "markdown",
   "metadata": {},
   "source": [
    "By running the code above, we can observe that the value of $\\pi$ varies in each run. Therefore, to obtain an average value of $\\pi$, we run the code above multiple times."
   ]
  },
  {
   "cell_type": "code",
   "execution_count": 208,
   "metadata": {},
   "outputs": [
    {
     "data": {
      "text/latex": [
       "$\\displaystyle \\pi = 3.1428 \\pm 0.0162$"
      ],
      "text/plain": [
       "<IPython.core.display.Math object>"
      ]
     },
     "metadata": {},
     "output_type": "display_data"
    }
   ],
   "source": [
    "n = 10000\n",
    "threads = mp.cpu_count() \n",
    "\n",
    "pool = mp.Pool(threads)\n",
    "all_pi = []\n",
    "for i in range(100):\n",
    "    pi = pool.map(calculate_pi, [n for x in range(threads)])\n",
    "    all_pi.append(pi)\n",
    "pool.close()\n",
    "pi = round(np.mean(all_pi),4)\n",
    "std = round(np.std(all_pi),4)\n",
    "\n",
    "display(Math('\\pi = {} \\pm {}'.format(pi, std)))"
   ]
  },
  {
   "cell_type": "code",
   "execution_count": 276,
   "metadata": {},
   "outputs": [
    {
     "data": {
      "image/png": "[encoded data removed]",
      "text/plain": [
       "<Figure size 576x576 with 1 Axes>"
      ]
     },
     "metadata": {
      "needs_background": "light"
     },
     "output_type": "display_data"
    }
   ],
   "source": [
    "all_pi = np.array(all_pi)\n",
    "all_pi = all_pi.reshape(all_pi.size,1)\n",
    "\n",
    "d = 4\n",
    "\n",
    "x = np.linspace(pi - d*std, pi + d*std, 100)\n",
    "pdf = stats.norm.pdf(x, pi, std)\n",
    "\n",
    "plt.figure(figsize=(8,8))\n",
    "plt.plot(x, pdf, color='k', lw=3)\n",
    "plt.hist(all_pi, bins=15, density=True, alpha=1, color='g')\n",
    "plt.axvline(x=math.pi,ls='--',lw=3,color='r')\n",
    "\n",
    "plt.xticks(np.linspace(x.min(),x.max(),5), fontsize=20)\n",
    "plt.yticks([])\n",
    "plt.ylabel('Normalized Frequency', fontsize=30)\n",
    "plt.xlabel('$\\pi$', fontsize=30)\n",
    "plt.rcParams['axes.linewidth'] = 2\n",
    "plt.rcParams['xtick.major.size'] = 10\n",
    "plt.rcParams['xtick.major.width'] = 2\n",
    "\n",
    "plt.show()"
   ]
  }
 ],
 "metadata": {
  "kernelspec": {
   "display_name": "Python 3 (ipykernel)",
   "language": "python",
   "name": "python3"
  },
  "language_info": {
   "codemirror_mode": {
    "name": "ipython",
    "version": 3
   },
   "file_extension": ".py",
   "mimetype": "text/x-python",
   "name": "python",
   "nbconvert_exporter": "python",
   "pygments_lexer": "ipython3",
   "version": "3.7.10"
  }
 },
 "nbformat": 4,
 "nbformat_minor": 4
}
